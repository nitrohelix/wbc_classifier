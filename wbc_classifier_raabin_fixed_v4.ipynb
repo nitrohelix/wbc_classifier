{
  "cells": [
    {
      "cell_type": "markdown",
      "id": "e8410d0f",
      "metadata": {
        "id": "e8410d0f"
      },
      "source": [
        "# White blood cell classifier\n",
        "\n",
        "Concept:\n",
        "\n",
        "Build a model that can classify different types of white blood cells through images.\n",
        "\n",
        "Rationale: Successful classification of cells leads to a more efficient way of doing manual differentials\n",
        "\n",
        "Feasibility: A basic model can be built within a weekend using readily available Python libraries.\n",
        "\n",
        "Relevance: AI Classification is used in analyzers that are able to review stained blood slides. This advanced technology in healthcare lessens the workload of the lab tech who must review each abnormal slide and count the cells manually.\n",
        "\n",
        "Data-centric: This application relies heavily on large datasets of white blood cells in order to be trained to identify them confidently."
      ]
    },
    {
      "cell_type": "markdown",
      "source": [
        "# 2.  Setup and Imports\n",
        "\n",
        "First, we need to Install and  import the necessary libraries. Each library serves a specific purpose  "
      ],
      "metadata": {
        "id": "Uw2tYGIGANzz"
      },
      "id": "Uw2tYGIGANzz"
    },
    {
      "cell_type": "code",
      "execution_count": null,
      "id": "87f1a99c",
      "metadata": {
        "id": "87f1a99c",
        "outputId": "1bd2439e-3152-4300-dd4a-981a71d0c43c"
      },
      "outputs": [
        {
          "name": "stdout",
          "output_type": "stream",
          "text": [
            "Looking in indexes: https://download.pytorch.org/whl/cu118\n",
            "Requirement already satisfied: torch in c:\\users\\jelly\\anaconda3\\lib\\site-packages (2.4.1+cu118)\n",
            "Requirement already satisfied: torchvision in c:\\users\\jelly\\anaconda3\\lib\\site-packages (0.19.1)\n",
            "Requirement already satisfied: torchaudio in c:\\users\\jelly\\anaconda3\\lib\\site-packages (2.4.1+cu118)\n",
            "Requirement already satisfied: filelock in c:\\users\\jelly\\anaconda3\\lib\\site-packages (from torch) (3.0.12)\n",
            "Requirement already satisfied: fsspec in c:\\users\\jelly\\anaconda3\\lib\\site-packages (from torch) (2025.3.0)\n",
            "Requirement already satisfied: jinja2 in c:\\users\\jelly\\anaconda3\\lib\\site-packages (from torch) (2.11.3)\n",
            "Requirement already satisfied: sympy in c:\\users\\jelly\\anaconda3\\lib\\site-packages (from torch) (1.8)\n",
            "Requirement already satisfied: typing-extensions>=4.8.0 in c:\\users\\jelly\\anaconda3\\lib\\site-packages (from torch) (4.13.2)\n",
            "Requirement already satisfied: networkx in c:\\users\\jelly\\anaconda3\\lib\\site-packages (from torch) (2.5)\n",
            "Requirement already satisfied: pillow!=8.3.*,>=5.3.0 in c:\\users\\jelly\\anaconda3\\lib\\site-packages (from torchvision) (8.2.0)\n",
            "Requirement already satisfied: numpy in c:\\users\\jelly\\anaconda3\\lib\\site-packages (from torchvision) (1.20.1)\n",
            "Requirement already satisfied: MarkupSafe>=0.23 in c:\\users\\jelly\\anaconda3\\lib\\site-packages (from jinja2->torch) (1.1.1)\n",
            "Requirement already satisfied: decorator>=4.3.0 in c:\\users\\jelly\\anaconda3\\lib\\site-packages (from networkx->torch) (5.0.6)\n",
            "Requirement already satisfied: mpmath>=0.19 in c:\\users\\jelly\\anaconda3\\lib\\site-packages (from sympy->torch) (1.2.1)\n",
            "Note: you may need to restart the kernel to use updated packages.\n",
            "True\n",
            "11.8\n",
            "1\n",
            "Using device: cuda\n"
          ]
        }
      ],
      "source": [
        "# Install minimal required packages (run once)\n",
        "# In some environments, you may already have these packages installed.\n",
        "%pip install torch torchvision torchaudio --index-url https://download.pytorch.org/whl/cu118\n",
        "\n",
        "import os, zipfile, random, shutil\n",
        "from pathlib import Path\n",
        "import numpy as np\n",
        "import matplotlib.pyplot as plt\n",
        "\n",
        "import torch\n",
        "print(torch.cuda.is_available())\n",
        "print(torch.version.cuda)\n",
        "print(torch.cuda.device_count())\n",
        "from torch import nn\n",
        "from torch.utils.data import DataLoader\n",
        "from torchvision import datasets, transforms, models\n",
        "from sklearn.metrics import classification_report, confusion_matrix\n",
        "\n",
        "DEVICE = \"cuda\" if torch.cuda.is_available() else \"cpu\"\n",
        "print('Using device:', DEVICE)\n"
      ]
    },
    {
      "cell_type": "markdown",
      "source": [],
      "metadata": {
        "id": "WENvbLJuC2_J"
      },
      "id": "WENvbLJuC2_J"
    },
    {
      "cell_type": "markdown",
      "metadata": {
        "pycharm": {},
        "id": "hiLAKbnQ_wge"
      },
      "source": [
        "# 3. Data Preparation\n",
        "\n"
      ],
      "id": "hiLAKbnQ_wge"
    },
    {
      "cell_type": "code",
      "execution_count": null,
      "id": "8d4f0816",
      "metadata": {
        "id": "8d4f0816",
        "outputId": "82b33220-8423-45dc-9f7a-8b4dcddd48b5"
      },
      "outputs": [
        {
          "name": "stdout",
          "output_type": "stream",
          "text": [
            "Already extracted to raabin_raw\n",
            "Top-level folders: ['TestA', 'TestB', 'Train']\n",
            "Image counts (possible splits): {'Train': 10175, 'train': 10175, 'TestA': 4339, 'TestB': 2119, 'testA': 4339, 'testB': 2119}\n",
            "Sample images (first 10):\n",
            " - raabin_raw\\TestA\\TestA\\Basophil\\20190526_163027_0.jpg\n",
            " - raabin_raw\\TestA\\TestA\\Basophil\\20190526_163055_0.jpg\n",
            " - raabin_raw\\TestA\\TestA\\Basophil\\20190526_163055_1.jpg\n",
            " - raabin_raw\\TestA\\TestA\\Basophil\\20190526_163055_2.jpg\n",
            " - raabin_raw\\TestA\\TestA\\Basophil\\20190526_163545_0.jpg\n",
            " - raabin_raw\\TestA\\TestA\\Basophil\\20190526_163656_0.jpg\n",
            " - raabin_raw\\TestA\\TestA\\Basophil\\20190526_163835_0.jpg\n",
            " - raabin_raw\\TestA\\TestA\\Basophil\\20190526_163835_1.jpg\n",
            " - raabin_raw\\TestA\\TestA\\Basophil\\20190526_164040_0.jpg\n",
            " - raabin_raw\\TestA\\TestA\\Basophil\\20190526_164638_0.jpg\n"
          ]
        }
      ],
      "source": [
        "# Unzip uploaded Raabin dataset and inspect structure\n",
        "ZIP_PATH = Path('/mnt/data/raabin_wbc.zip')\n",
        "EXTRACT_DIR = Path('raabin_raw')\n",
        "\n",
        "if not EXTRACT_DIR.exists():\n",
        "    print('Extracting', ZIP_PATH)\n",
        "    with zipfile.ZipFile(ZIP_PATH, 'r') as zf:\n",
        "        zf.extractall(EXTRACT_DIR)\n",
        "else:\n",
        "    print('Already extracted to', EXTRACT_DIR)\n",
        "\n",
        "# List top-level dirs\n",
        "top = [p for p in EXTRACT_DIR.iterdir() if p.is_dir()]\n",
        "print('Top-level folders:', [p.name for p in top])\n",
        "\n",
        "# Count images in Train/TestA/TestB-like folders\n",
        "image_exts = ('.jpg', '.jpeg', '.png', '.tif', '.tiff', '.bmp')\n",
        "counts = {}\n",
        "for name in ['Train','train','TestA','TestB','test','testA','testB']:\n",
        "    p = EXTRACT_DIR / name\n",
        "    if p.exists():\n",
        "        imgs = list(p.rglob('*'))\n",
        "        img_count = sum(1 for f in imgs if f.is_file() and f.suffix.lower() in image_exts)\n",
        "        counts[name] = img_count\n",
        "print('Image counts (possible splits):', counts)\n",
        "\n",
        "# Show a few sample image paths\n",
        "samples = []\n",
        "for p in EXTRACT_DIR.rglob('*'):\n",
        "    if p.is_file() and p.suffix.lower() in image_exts:\n",
        "        samples.append(str(p)[:200])\n",
        "        if len(samples) >= 10: break\n",
        "print('Sample images (first 10):')\n",
        "for s in samples: print(' -', s)\n"
      ]
    },
    {
      "cell_type": "markdown",
      "source": [
        "#3.1 Splitting data\n",
        "Before training the model, we will seperate the images into training and validation sets. It will help to see how well the model can identify new images of these cells.\n",
        "\n",
        "The training set will be a larger set of data vs the validation set. The validation set is not used in training and will be used for evaluation of the model's performance. This will test to see if the model learns general patterns instead of memorizing the images."
      ],
      "metadata": {
        "id": "PWTF9rKUED_0"
      },
      "id": "PWTF9rKUED_0"
    },
    {
      "cell_type": "code",
      "execution_count": null,
      "id": "61dd23e3",
      "metadata": {
        "id": "61dd23e3",
        "outputId": "4c0bbb3d-0d27-4dbd-e7f7-a6c4fa4eecd0"
      },
      "outputs": [
        {
          "name": "stdout",
          "output_type": "stream",
          "text": [
            "Data dir already exists: wbc_raabin_split\n",
            "Archive folders used -> train: raabin_raw\\Train val: raabin_raw\\TestA test: raabin_raw\\TestB\n",
            "Using Train/TestA/TestB split from archive (no random splitting).\n",
            "Counts per split/class (sample):\n",
            "test/Test-B: 2119\n",
            "train/Train: 10175\n",
            "val/TestA: 4339\n"
          ]
        }
      ],
      "source": [
        "# Create standardized split directories: train/ val/ test based on Train / TestA / TestB in archive.\n",
        "DATA_DIR = Path('wbc_raabin_split')\n",
        "if DATA_DIR.exists():\n",
        "    print('Data dir already exists:', DATA_DIR)\n",
        "else:\n",
        "    DATA_DIR.mkdir(parents=True, exist_ok=True)\n",
        "\n",
        "# Map archive folders to our splits (prefer exact names found in the archive)\n",
        "archive_train = None\n",
        "archive_val = None\n",
        "archive_test = None\n",
        "\n",
        "# Prefer 'Train' for training, 'TestA' for val, 'TestB' for test\n",
        "if (EXTRACT_DIR / 'Train').exists():\n",
        "    archive_train = EXTRACT_DIR / 'Train'\n",
        "if (EXTRACT_DIR / 'TestA').exists():\n",
        "    archive_val = EXTRACT_DIR / 'TestA'\n",
        "if (EXTRACT_DIR / 'TestB').exists():\n",
        "    archive_test = EXTRACT_DIR / 'TestB'\n",
        "\n",
        "# Fallbacks: if TestA/TestB not present, we'll split Train folder\n",
        "if archive_train is None:\n",
        "    # find any folder with many images and use it\n",
        "    candidates = [p for p in EXTRACT_DIR.iterdir() if p.is_dir()]\n",
        "    candidates = sorted(candidates, key=lambda p: -sum(1 for f in p.rglob('*') if f.is_file() and f.suffix.lower() in ['.jpg','.png']))\n",
        "    if candidates:\n",
        "        archive_train = candidates[0]\n",
        "\n",
        "print('Archive folders used -> train:', archive_train, 'val:', archive_val, 'test:', archive_test)\n",
        "\n",
        "# Helper to copy class subfolders into our DATA_DIR/split/<classname>/\n",
        "def copy_archive_to_split(archive_root: Path, split_name: str):\n",
        "    if archive_root is None:\n",
        "        return\n",
        "    for class_dir in sorted([p for p in archive_root.iterdir() if p.is_dir()]):\n",
        "        target_dir = DATA_DIR / split_name / class_dir.name\n",
        "        target_dir.mkdir(parents=True, exist_ok=True)\n",
        "        # copy images from possibly nested structure (some archives have Train/Train/Class/*.jpg)\n",
        "        for img in class_dir.rglob('*'):\n",
        "            if img.is_file() and img.suffix.lower() in image_exts:\n",
        "                shutil.copy(img, target_dir / img.name)\n",
        "\n",
        "# If TestA/TestB exist, use them; otherwise split archive_train into train/val/test\n",
        "if archive_val and archive_test:\n",
        "    print('Using Train/TestA/TestB split from archive (no random splitting).')\n",
        "    copy_archive_to_split(archive_train, 'train')\n",
        "    copy_archive_to_split(archive_val, 'val')\n",
        "    copy_archive_to_split(archive_test, 'test')\n",
        "else:\n",
        "    # We'll gather all images under archive_train by class and then do deterministic split per class\n",
        "    print('Creating train/val/test splits by sampling per-class from archive_train.')\n",
        "    for class_dir in sorted([p for p in archive_train.iterdir() if p.is_dir()]):\n",
        "        imgs = [p for p in class_dir.rglob('*') if p.is_file() and p.suffix.lower() in image_exts]\n",
        "        random.shuffle(imgs)\n",
        "        n = len(imgs)\n",
        "        n_train = int(0.7 * n)\n",
        "        n_val = int(0.15 * n)\n",
        "        train_imgs = imgs[:n_train]\n",
        "        val_imgs = imgs[n_train:n_train+n_val]\n",
        "        test_imgs = imgs[n_train+n_val:]\n",
        "        for p in train_imgs:\n",
        "            dest = DATA_DIR / 'train' / class_dir.name\n",
        "            dest.mkdir(parents=True, exist_ok=True)\n",
        "            shutil.copy(p, dest / p.name)\n",
        "        for p in val_imgs:\n",
        "            dest = DATA_DIR / 'val' / class_dir.name\n",
        "            dest.mkdir(parents=True, exist_ok=True)\n",
        "            shutil.copy(p, dest / p.name)\n",
        "        for p in test_imgs:\n",
        "            dest = DATA_DIR / 'test' / class_dir.name\n",
        "            dest.mkdir(parents=True, exist_ok=True)\n",
        "            shutil.copy(p, dest / p.name)\n",
        "\n",
        "# Print counts per split/class\n",
        "from collections import defaultdict\n",
        "counts = defaultdict(int)\n",
        "for split in ['train','val','test']:\n",
        "    for class_dir in (DATA_DIR / split).iterdir() if (DATA_DIR / split).exists() else []:\n",
        "        cnt = sum(1 for f in class_dir.iterdir() if f.is_file())\n",
        "        counts[f\"{split}/{class_dir.name}\"] = cnt\n",
        "\n",
        "print('Counts per split/class (sample):')\n",
        "for k,v in sorted(counts.items())[:50]:\n",
        "    print(f'{k}: {v}')\n"
      ]
    },
    {
      "cell_type": "code",
      "execution_count": null,
      "id": "c7f05021",
      "metadata": {
        "id": "c7f05021",
        "outputId": "ab34286f-990b-4a6e-f1f1-698f74b869fe"
      },
      "outputs": [
        {
          "name": "stdout",
          "output_type": "stream",
          "text": [
            "Found classes: ['Train']\n",
            "Detected classes: ['Train']\n"
          ]
        }
      ],
      "source": [
        "# Data transforms and dataloaders\n",
        "from torchvision import datasets, transforms\n",
        "IMG_SIZE = 244\n",
        "BATCH_SIZE = 32\n",
        "\n",
        "train_tf = transforms.Compose([\n",
        "    transforms.RandomResizedCrop(IMG_SIZE, scale=(0.8,1.0)),\n",
        "    transforms.RandomHorizontalFlip(),\n",
        "    transforms.ColorJitter(0.2,0.2,0.2),\n",
        "    transforms.ToTensor(),\n",
        "    transforms.Normalize([0.485,0.456,0.406],[0.229,0.224,0.225])\n",
        "])\n",
        "\n",
        "val_tf = transforms.Compose([\n",
        "    transforms.Resize((IMG_SIZE,IMG_SIZE)),\n",
        "    transforms.ToTensor(),\n",
        "    transforms.Normalize([0.485,0.456,0.406],[0.229,0.224,0.225])\n",
        "])\n",
        "\n",
        "data_root = Path('wbc_raabin_split')\n",
        "\n",
        "train_ds = datasets.ImageFolder(data_root/'train', transform=train_tf)\n",
        "val_ds   = datasets.ImageFolder(data_root/'val', transform=val_tf)\n",
        "test_ds  = datasets.ImageFolder(data_root/'test', transform=val_tf)\n",
        "\n",
        "print('Found classes:', train_ds.classes)\n",
        "train_loader = DataLoader(train_ds, batch_size=BATCH_SIZE, shuffle=True, num_workers=2)\n",
        "val_loader = DataLoader(val_ds, batch_size=BATCH_SIZE, shuffle=False, num_workers=2)\n",
        "test_loader = DataLoader(test_ds, batch_size=BATCH_SIZE, shuffle=False, num_workers=2)\n",
        "\n",
        "\n",
        "# Ensure class_names is defined\n",
        "class_names = train_ds.classes\n",
        "print('Detected classes:', class_names)"
      ]
    },
    {
      "cell_type": "code",
      "execution_count": null,
      "id": "dc9d56f0",
      "metadata": {
        "id": "dc9d56f0"
      },
      "outputs": [],
      "source": [
        "from torchvision.models import resnet50, ResNet50_Weights\n",
        "\n",
        "# Load ResNet50 with proper weights (avoids warnings)\n",
        "weights = ResNet50_Weights.DEFAULT\n",
        "model = resnet50(weights=weights)\n",
        "\n",
        "# Replace final layer for WBC classes\n",
        "in_features = model.fc.in_features\n",
        "model.fc = nn.Linear(in_features, len(class_names))\n",
        "model = model.to(DEVICE)\n",
        "\n",
        "criterion = nn.CrossEntropyLoss()\n",
        "optimizer = torch.optim.AdamW(model.parameters(), lr=1e-4)\n"
      ]
    },
    {
      "cell_type": "code",
      "execution_count": null,
      "id": "17bb306f",
      "metadata": {
        "id": "17bb306f",
        "outputId": "bd9fa28a-9c98-48f1-ca16-84ed0341921d"
      },
      "outputs": [
        {
          "name": "stdout",
          "output_type": "stream",
          "text": [
            "Epoch 1/5 - Train loss 0.0000, Train acc 1.0000, Val acc 1.0000\n",
            "Epoch 2/5 - Train loss 0.0000, Train acc 1.0000, Val acc 1.0000\n",
            "Epoch 3/5 - Train loss 0.0000, Train acc 1.0000, Val acc 1.0000\n",
            "Epoch 4/5 - Train loss 0.0000, Train acc 1.0000, Val acc 1.0000\n",
            "Epoch 5/5 - Train loss 0.0000, Train acc 1.0000, Val acc 1.0000\n"
          ]
        }
      ],
      "source": [
        "# Training loop (brief demo)\n",
        "EPOCHS = 5\n",
        "for epoch in range(EPOCHS):\n",
        "    model.train()\n",
        "    running_loss = 0.0\n",
        "    correct = 0\n",
        "    total = 0\n",
        "    for imgs, labels in train_loader:\n",
        "        imgs, labels = imgs.to(DEVICE), labels.to(DEVICE)\n",
        "        optimizer.zero_grad()\n",
        "        outputs = model(imgs)\n",
        "        loss = criterion(outputs, labels)\n",
        "        loss.backward()\n",
        "        optimizer.step()\n",
        "        running_loss += loss.item() * imgs.size(0)\n",
        "        preds = outputs.argmax(1)\n",
        "        correct += (preds == labels).sum().item()\n",
        "        total += labels.size(0)\n",
        "    train_loss = running_loss / total\n",
        "    train_acc = correct / total\n",
        "\n",
        "    # validation\n",
        "    model.eval()\n",
        "    correct = 0\n",
        "    total = 0\n",
        "    with torch.no_grad():\n",
        "        for imgs, labels in val_loader:\n",
        "            imgs, labels = imgs.to(DEVICE), labels.to(DEVICE)\n",
        "            outputs = model(imgs)\n",
        "            preds = outputs.argmax(1)\n",
        "            correct += (preds == labels).sum().item()\n",
        "            total += labels.size(0)\n",
        "    val_acc = correct / total\n",
        "    print(f'Epoch {epoch+1}/{EPOCHS} - Train loss {train_loss:.4f}, Train acc {train_acc:.4f}, Val acc {val_acc:.4f}')\n"
      ]
    },
    {
      "cell_type": "code",
      "execution_count": null,
      "id": "61a6db29",
      "metadata": {
        "id": "61a6db29",
        "outputId": "6d380adb-7482-4409-f55c-3d83bba1ab33"
      },
      "outputs": [
        {
          "name": "stdout",
          "output_type": "stream",
          "text": [
            "              precision    recall  f1-score   support\n",
            "\n",
            "       Train       1.00      1.00      1.00      2119\n",
            "\n",
            "    accuracy                           1.00      2119\n",
            "   macro avg       1.00      1.00      1.00      2119\n",
            "weighted avg       1.00      1.00      1.00      2119\n",
            "\n",
            "Confusion matrix:\n",
            "[[2119]]\n"
          ]
        }
      ],
      "source": [
        "# Final evaluation on test set\n",
        "model.eval()\n",
        "all_preds, all_labels = [], []\n",
        "with torch.no_grad():\n",
        "    for imgs, labels in test_loader:\n",
        "        imgs, labels = imgs.to(DEVICE), labels.to(DEVICE)\n",
        "        outputs = model(imgs)\n",
        "        preds = outputs.argmax(1)\n",
        "        all_preds.extend(preds.cpu().numpy())\n",
        "        all_labels.extend(labels.cpu().numpy())\n",
        "\n",
        "from sklearn.metrics import classification_report, confusion_matrix\n",
        "print(classification_report(all_labels, all_preds, target_names=train_ds.classes))\n",
        "print('Confusion matrix:')\n",
        "print(confusion_matrix(all_labels, all_preds))\n"
      ]
    },
    {
      "cell_type": "code",
      "execution_count": null,
      "id": "11ad07a8",
      "metadata": {
        "id": "11ad07a8",
        "outputId": "10195a37-a07a-4ae4-82ba-a5676ebff549"
      },
      "outputs": [
        {
          "data": {
            "image/png": "[encoded data removed]",
            "text/plain": [
              "<Figure size 576x432 with 2 Axes>"
            ]
          },
          "metadata": {
            "needs_background": "light"
          },
          "output_type": "display_data"
        }
      ],
      "source": [
        "import seaborn as sns\n",
        "\n",
        "# Confusion matrix heatmap\n",
        "cm = confusion_matrix(all_labels, all_preds)\n",
        "plt.figure(figsize=(8,6))\n",
        "sns.heatmap(cm, annot=True, fmt=\"d\", cmap=\"Blues\",\n",
        "            xticklabels=class_names, yticklabels=class_names)\n",
        "plt.xlabel(\"Predicted\")\n",
        "plt.ylabel(\"True\")\n",
        "plt.title(\"Confusion Matrix Heatmap\")\n",
        "plt.show()\n"
      ]
    },
    {
      "cell_type": "code",
      "execution_count": null,
      "id": "260c59ad",
      "metadata": {
        "id": "260c59ad",
        "outputId": "e3d33854-37d2-4009-d8e5-b06a4e7a31bf"
      },
      "outputs": [
        {
          "name": "stdout",
          "output_type": "stream",
          "text": [
            "No sample images found in test set.\n"
          ]
        }
      ],
      "source": [
        "# Single image inference helper\n",
        "from PIL import Image\n",
        "def predict_image(path):\n",
        "    img = Image.open(path).convert('RGB')\n",
        "    x = val_tf(img).unsqueeze(0).to(DEVICE)\n",
        "    model.eval()\n",
        "    with torch.no_grad():\n",
        "        out = model(x)\n",
        "        pred = out.argmax(1).item()\n",
        "    return train_ds.classes[pred]\n",
        "\n",
        "# Example: pick a sample from test set (if available)\n",
        "sample = None\n",
        "for cls in train_ds.classes:\n",
        "    p = (data_root/'test'/cls)\n",
        "    if p.exists() and any(p.iterdir()):\n",
        "        sample = next(p.glob('*'))\n",
        "        break\n",
        "if sample:\n",
        "    print('Example sample:', sample)\n",
        "    print('Predicted:', predict_image(sample))\n",
        "else:\n",
        "    print('No sample images found in test set.')\n"
      ]
    },
    {
      "cell_type": "code",
      "execution_count": null,
      "id": "b19804c9",
      "metadata": {
        "id": "b19804c9"
      },
      "outputs": [],
      "source": []
    }
  ],
  "metadata": {
    "kernelspec": {
      "display_name": "Python 3",
      "language": "python",
      "name": "python3"
    },
    "language_info": {
      "codemirror_mode": {
        "name": "ipython",
        "version": 3
      },
      "file_extension": ".py",
      "mimetype": "text/x-python",
      "name": "python",
      "nbconvert_exporter": "python",
      "pygments_lexer": "ipython3",
      "version": "3.8.8"
    },
    "colab": {
      "provenance": []
    }
  },
  "nbformat": 4,
  "nbformat_minor": 5
}